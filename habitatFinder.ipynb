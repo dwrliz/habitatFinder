{
 "cells": [
  {
   "cell_type": "code",
   "execution_count": 1,
   "metadata": {},
   "outputs": [],
   "source": [
    "import arcpy, os, sys, time\n",
    "from arcpy.sa import *\n",
    "from arcpy import management as DM\n",
    "from arcgis.gis import GIS\n",
    "from arcpy import analysis as AN\n",
    "from arcpy import conversion as CO\n",
    "from arcpy import ddd as DDD\n",
    "arcpy.env.cellSize = 30 # DEMs natively at 1m resolution, 30m needed for processing timeout\n",
    "arcpy.env.overwriteOutput = True"
   ]
  },
  {
   "cell_type": "code",
   "execution_count": 2,
   "metadata": {},
   "outputs": [
    {
     "name": "stdout",
     "output_type": "stream",
     "text": [
      "Model running, starting timer\n",
      "Script containing folder: C:\\Users\\User\\AppData\\Local\\ESRI\\conda\\envs\\arcgispro-py3-clone\\lib\\site-packages\n"
     ]
    }
   ],
   "source": [
    "print(\"Model running, starting timer\")\n",
    "a = time.perf_counter()/60\n",
    "env = arcpy.env\n",
    "script = os.path.dirname(sys.argv[0]) # Script location\n",
    "print(\"Script containing folder: \" + script)\n",
    "temp = r\"memory\"\n",
    "env.workspace = temp"
   ]
  },
  {
   "cell_type": "code",
   "execution_count": 3,
   "metadata": {},
   "outputs": [
    {
     "name": "stdout",
     "output_type": "stream",
     "text": [
      "Layers loaded: 0.06 minutes\n"
     ]
    }
   ],
   "source": [
    "#Load layers\n",
    "gis = GIS(\"https://sfsu.maps.arcgis.com/sharing\")\n",
    "dsm = gis.content.get(\"b690f8d64d0145f1baf74d73690da154\")\n",
    "dem = gis.content.get(\"1adaa794cbf2477da2660f190c785fa7\")\n",
    "veg = gis.content.get(\"6341228ec82a4bfbaf52d977a14e99ce\")\n",
    "b = time.perf_counter()/60\n",
    "print(f\"Layers loaded: {round(b - a, 2)} minutes\")"
   ]
  },
  {
   "cell_type": "code",
   "execution_count": 4,
   "metadata": {},
   "outputs": [
    {
     "name": "stdout",
     "output_type": "stream",
     "text": [
      "Veg feature generated: 0.06 minutes\n"
     ]
    }
   ],
   "source": [
    "#Load vegitation layer. Credit: vegmap\n",
    "veg2 = veg.layers[0]\n",
    "veg3 =veg2.url\n",
    "veg4 = r\"memory\\veg\"\n",
    "DM.MakeFeatureLayer(veg3, veg4)\n",
    "c = time.perf_counter()/60\n",
    "print(f\"Veg feature generated: {round(c - b, 2)} minutes\")"
   ]
  },
  {
   "cell_type": "code",
   "execution_count": 5,
   "metadata": {
    "scrolled": true
   },
   "outputs": [
    {
     "data": {
      "application/vnd.jupyter.widget-view+json": {
       "model_id": "370016aad23648138cc2af6cf43871c4",
       "version_major": 2,
       "version_minor": 0
      },
      "text/plain": [
       "MapView(layout=Layout(height='400px', width='100%'), zoom=10.0)"
      ]
     },
     "metadata": {},
     "output_type": "display_data"
    },
    {
     "data": {
      "text/html": [
       "<div class=\"map-static-img-preview-ede22f56-6ceb-41f9-b22a-024c8f284232\"><img src=\"\"></img></div>"
      ],
      "text/plain": [
       "<IPython.core.display.HTML object>"
      ]
     },
     "metadata": {},
     "output_type": "display_data"
    }
   ],
   "source": [
    "vegMap = gis.map('Marin, CA', 10)\n",
    "vegMap.add_layer(veg)\n",
    "vegMap"
   ]
  },
  {
   "cell_type": "code",
   "execution_count": 6,
   "metadata": {},
   "outputs": [
    {
     "name": "stdout",
     "output_type": "stream",
     "text": [
      "Veg type selected: 0.05 minutes\n"
     ]
    }
   ],
   "source": [
    "#Select vegitation type \n",
    "selection = 'Forest & Woodland' #input variable\n",
    "where = \"LIFEFORM = '\" + selection + \"'\"\n",
    "DM.SelectLayerByAttribute(veg4, \"NEW_SELECTION\", where, None)\n",
    "d = time.perf_counter()/60\n",
    "print(f\"Veg type selected: {round(d - c, 2)} minutes\")"
   ]
  },
  {
   "cell_type": "code",
   "execution_count": 7,
   "metadata": {},
   "outputs": [
    {
     "name": "stdout",
     "output_type": "stream",
     "text": [
      "Veg conditional raster created: 1.76 minutes\n"
     ]
    }
   ],
   "source": [
    "#Make conditional vegitation layer raster\n",
    "vegCon = r\"memory\\veg2\"\n",
    "path = script + r\"\\veg.shp\"\n",
    "CO.FeatureClassToShapefile(veg4, script)\n",
    "CO.FeatureToRaster(path, \"LIFEFORM\", vegCon, 30)\n",
    "e = time.perf_counter()/60\n",
    "print(f\"Veg conditional raster created: {round(e - d, 2)} minutes\")"
   ]
  },
  {
   "cell_type": "code",
   "execution_count": 8,
   "metadata": {},
   "outputs": [
    {
     "name": "stdout",
     "output_type": "stream",
     "text": [
      "DSM resampled: 28.12 minutes\n"
     ]
    }
   ],
   "source": [
    "#Load non-normalized digital surface model\n",
    "dsm2 = dsm.layers[0]\n",
    "dsm3 = dsm2.url\n",
    "dsm4 = r\"memory\\dsm\"\n",
    "dsm5 = r\"memory\\dsm2\"\n",
    "DM.MakeImageServerLayer(dsm3, dsm4)\n",
    "DM.Resample(dsm4, dsm5, 30)\n",
    "f = time.perf_counter()/60\n",
    "print(f\"DSM resampled: {round(f - e, 2)} minutes\")"
   ]
  },
  {
   "cell_type": "code",
   "execution_count": 9,
   "metadata": {},
   "outputs": [
    {
     "data": {
      "application/vnd.jupyter.widget-view+json": {
       "model_id": "aeb050133a134f69aa2b587e7c2e887f",
       "version_major": 2,
       "version_minor": 0
      },
      "text/plain": [
       "MapView(layout=Layout(height='400px', width='100%'), zoom=16.0)"
      ]
     },
     "metadata": {},
     "output_type": "display_data"
    },
    {
     "data": {
      "text/html": [
       "<div class=\"map-static-img-preview-66a17815-7a3a-4c12-b81d-2d8098dd553f\"><img src=\"\"></img></div>"
      ],
      "text/plain": [
       "<IPython.core.display.HTML object>"
      ]
     },
     "metadata": {},
     "output_type": "display_data"
    }
   ],
   "source": [
    "dsmMap = gis.map('37.96929, -122.68121', 16)\n",
    "dsmMap.add_layer(dsm)\n",
    "dsmMap"
   ]
  },
  {
   "cell_type": "code",
   "execution_count": null,
   "metadata": {},
   "outputs": [],
   "source": [
    "#Load digital elevation model\n",
    "dem2 = dem.layers[0]\n",
    "dem3 = dem2.url\n",
    "dem4 = r\"memory\\dem\"\n",
    "dem5 = r\"memory\\dem2\"\n",
    "DM.MakeImageServerLayer(dem3, dem4)\n",
    "DM.Resample(dem4, dem5, 30)\n",
    "g = time.perf_counter()/60\n",
    "print(f\"DEM resampled: {round(g - f, 2)} minutes\")"
   ]
  },
  {
   "cell_type": "code",
   "execution_count": null,
   "metadata": {},
   "outputs": [],
   "source": [
    "demMap = gis.map('37.96929, -122.68121', 16)\n",
    "demMap.add_layer(dem)\n",
    "demMap"
   ]
  },
  {
   "cell_type": "code",
   "execution_count": null,
   "metadata": {},
   "outputs": [],
   "source": [
    "#Normalize surface model\n",
    "ndsm = Minus(dsm5, dem5)\n",
    "h = time.perf_counter()/60\n",
    "print(f\"nDSM generated: {round(h - g, 2)} minutes\")"
   ]
  },
  {
   "cell_type": "code",
   "execution_count": null,
   "metadata": {},
   "outputs": [],
   "source": [
    "#Conditional values\n",
    "demValues = [1000, 2700] #1000, 2700\n",
    "dsmValues = [15, 25] #15, 25 "
   ]
  },
  {
   "cell_type": "code",
   "execution_count": null,
   "metadata": {},
   "outputs": [],
   "source": [
    "#Make conditional DEM & DSM layer raster\n",
    "demCon = Con(dem4, 1, 0, f\"VALUE > {demValues[0]} And VALUE < {demValues[1]}\")\n",
    "i = time.perf_counter()/60\n",
    "print(f\"DEM conditional raster created: {round(i - h, 2)} minutes\")\n",
    "dsmCon = Con(ndsm, 1, 0, f\"VALUE > {dsmValues[0]} And VALUE < {dsmValues[1]}\")\n",
    "j = time.perf_counter()/60\n",
    "print(f\"DSM conditional raster created: {round(j - i, 2)} minutes\")"
   ]
  },
  {
   "cell_type": "code",
   "execution_count": null,
   "metadata": {},
   "outputs": [],
   "source": [
    "#Layer Weights\n",
    "vegInput = 2\n",
    "demInput = 1\n",
    "dsmInput = 1\n",
    "inList = [vegInput, demInput, dsmInput]\n",
    "vegProp = vegInput / sum(inList)\n",
    "demProp = demInput / sum(inList)\n",
    "dsmProp = dsmInput / sum(inList)"
   ]
  },
  {
   "cell_type": "code",
   "execution_count": null,
   "metadata": {},
   "outputs": [],
   "source": [
    "#Make a table of values\n",
    "myWSTable = WSTable([[vegCon, \"VALUE\", vegProp], [demCon, \"VALUE\", demProp], \n",
    "                     [dsmCon, \"VALUE\", dsmProp]])\n",
    "\n",
    "# Execute WeightedOverlay\n",
    "outWeighted = WeightedSum(myWSTable)\n",
    "# Save the output\n",
    "output = script + r\"/modeloutput\"\n",
    "outWeighted.save(output)\n",
    "outWeighted\n",
    "k = time.perf_counter()/60   \n",
    "print(f\"Weighted sum complete: {round(k - j, 2)} minutes\")"
   ]
  },
  {
   "cell_type": "code",
   "execution_count": null,
   "metadata": {},
   "outputs": [],
   "source": [
    "#Make contour around high habitat probability model regions with highest kernal density\n",
    "points = script + r\"\\points.shp\"\n",
    "points2 = script + r\"\\points2.shp\"\n",
    "CO.RasterToPoint(output, points, \"Value\")\n",
    "AN.Select(points, points2, \"grid_code > 0.9\")\n",
    "kernal = KernelDensity(points2, \"NONE\", 100, None, \"SQUARE_KILOMETERS\", \"DENSITIES\", \"PLANAR\")\n",
    "contour = script + r\"\\kernal.shp\"\n",
    "contourOut = DDD.Contour(kernal, contour, 1000, 20, 1, \"CONTOUR\", None)\n",
    "l = time.perf_counter()/60   \n",
    "print(f\"Contour complete: {round(l - k, 2)} minutes\")"
   ]
  },
  {
   "cell_type": "code",
   "execution_count": null,
   "metadata": {},
   "outputs": [],
   "source": [
    "# Clean things up a bit\n",
    "if arcpy.Exists(path):\n",
    "    DM.Delete(path)\n",
    "if arcpy.Exists(points):\n",
    "    DM.Delete(points)\n",
    "if arcpy.Exists(points2):\n",
    "    DM.Delete(points2)\n",
    "#All done\n",
    "print(f\"Model complete, total time elapsed: {round(l - a, 2)} minutes\")\n",
    "print(\"Files located at: \" + script)"
   ]
  },
  {
   "cell_type": "code",
   "execution_count": null,
   "metadata": {
    "scrolled": true
   },
   "outputs": [],
   "source": [
    "import pandas as pd\n",
    "gis = GIS('pro')\n",
    "sdf = pd.DataFrame.spatial.from_featureclass(contour)\n",
    "lyr = sdf.spatial.to_featurelayer('census_cite')\n",
    "habitatMap = gis.map('Marin, CA', 10)\n",
    "habitatMap.add_layer(lyr)\n",
    "habitatMap"
   ]
  }
 ],
 "metadata": {
  "kernelspec": {
   "display_name": "Python 3",
   "language": "python",
   "name": "python3"
  },
  "language_info": {
   "codemirror_mode": {
    "name": "ipython",
    "version": 3
   },
   "file_extension": ".py",
   "mimetype": "text/x-python",
   "name": "python",
   "nbconvert_exporter": "python",
   "pygments_lexer": "ipython3",
   "version": "3.6.9"
  }
 },
 "nbformat": 4,
 "nbformat_minor": 4
}
